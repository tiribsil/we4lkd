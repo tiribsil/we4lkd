{
 "cells": [
  {
   "metadata": {},
   "cell_type": "markdown",
   "source": [
    "Primeiro, juntei todos os pedaços do projeto do Matheus no notebook lma.ipynb.\n",
    "\n",
    "Nesse processo, tirei dúvidas com o próprio Matheus e consegui entender todo o código."
   ],
   "id": "7fc5352b05e96d32"
  },
  {
   "metadata": {},
   "cell_type": "markdown",
   "source": [
    "Depois, parti para a adaptação do algoritmo para o meu problema.\n",
    "\n",
    "A primeira coisa que percebi que tinha que mudar eram os termos de busca.\n",
    "\n",
    "No código do Matheus, os termos de busca tinham sido escolhidos manualmente por um especialista, e eles incluíam sinônimos para a LMA e seus tratamentos conhecidos.\n",
    "\n",
    "Como no meu caso a doença é dinâmica, os tratamentos devem ser buscados em tempo real de forma automática. Minhas primeiras ideias foram encontrar um site que tivesse os tratamentos conhecidos para a doença ou usar uma LLM para encontrar esses compostos.\n",
    "\n",
    "Minha primeira ideia foi usar o PubChem para buscar os tratamentos conhecidos para a doença, mas percebi que o PubChem não tinha informações sobre os tratamentos conhecidos para a doença.\n",
    "\n",
    "Tentei também buscar no PubMed, mas não consegui encontrar os tratamentos conhecidos para a doença.\n",
    "\n",
    "Depois, tentei usar o DrugBank, mas me responderam que não atendiam ao Brasil.\n",
    "\n",
    "Então, encontrei o site Medscape, que contém tratamentos para doenças."
   ],
   "id": "f2bd2a5a0113c7d1"
  }
 ],
 "metadata": {
  "kernelspec": {
   "display_name": "Python 3",
   "language": "python",
   "name": "python3"
  },
  "language_info": {
   "codemirror_mode": {
    "name": "ipython",
    "version": 2
   },
   "file_extension": ".py",
   "mimetype": "text/x-python",
   "name": "python",
   "nbconvert_exporter": "python",
   "pygments_lexer": "ipython2",
   "version": "2.7.6"
  }
 },
 "nbformat": 4,
 "nbformat_minor": 5
}
