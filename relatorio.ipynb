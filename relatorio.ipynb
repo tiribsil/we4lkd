{
 "cells": [
  {
   "metadata": {},
   "cell_type": "markdown",
   "source": [
    "Primeiro, juntei todos os pedaços do projeto do Matheus no notebook lma.ipynb.\n",
    "\n",
    "Nesse processo, tirei dúvidas com o próprio Matheus e consegui entender todo o código."
   ],
   "id": "7fc5352b05e96d32"
  },
  {
   "metadata": {},
   "cell_type": "markdown",
   "source": [
    "Depois, parti para a adaptação do algoritmo para o meu problema.\n",
    "\n",
    "A primeira coisa que percebi que tinha que mudar eram os termos de busca.\n",
    "\n",
    "No código do Matheus, os termos de busca tinham sido escolhidos manualmente por um especialista, e eles incluíam sinônimos para a LMA e seus tratamentos conhecidos.\n",
    "\n",
    "Como no meu caso a doença é dinâmica, os tratamentos devem ser buscados em tempo real de forma automática. Minhas primeiras ideias foram encontrar um site que tivesse os tratamentos conhecidos para a doença ou usar uma LLM para encontrar esses compostos.\n",
    "\n",
    "Minha primeira ideia foi usar o PubChem para buscar os tratamentos conhecidos para a doença, mas percebi que o PubChem não tinha informações sobre os tratamentos conhecidos para a doença.\n",
    "\n",
    "Tentei também buscar no PubMed, mas não consegui encontrar os tratamentos conhecidos para a doença.\n",
    "\n",
    "Depois, tentei usar o DrugBank, mas me responderam que não atendiam ao Brasil.\n",
    "\n",
    "Então, encontrei o site Medscape, que contém tratamentos para doenças.\n",
    "\n",
    "Depois de muita luta, consegui obter os resultados de uma busca no Medscape, agora tenho que tentar extrair os compostos dessas páginas.\n",
    "\n",
    "Acho que vou usar uma LLM mesmo pra extrair os compostos da página\n",
    "\n",
    "Tentei usar PubMedBERT pra extrair os compostos do Medscape, mas não é muito bom e o Medscape não tem tantas páginas de protocolo de tratamento, vou tentar usar só LLM.\n",
    "\n",
    "Usei Gemini pra fazer a query e deu certo parece, se der problema eu descubro depois.\n",
    "\n",
    "Baixar abstracts foi bem.\n",
    "\n",
    "Agregação dos arquivos foi bem.\n",
    "\n",
    "Voltei no crawler para conferir a sintaxe da query.\n",
    "\n",
    "Para o pré-processamento, comecei procurando por uma forma de normalizar os sinônimos da doença, trocando por um nome canônico.\n",
    "\n",
    "Tive vários problemas com achar os sinônimos da doença, mas acabei conseguindo usar Entrez, só preciso do nome da doença bem certinho.\n",
    "\n",
    "Agora preciso conseguir as tabelas de sinônimos e nomes canônicos de compostos.\n",
    "\n",
    "Peguei as tabelas do PubChem. Vou alterar o código para ler TSV em vez de CSV, já que o PubChem fornece os dados em TSV.\n",
    "\n",
    "Achei melhor trocar a tabela NER pronta por uma feita com base nos abstracts baixados.\n",
    "\n",
    "Treinamento dos modelos funcionou bem.\n",
    "\n",
    "Para Data Augmentation, vou tentar usar modelos de linguagem sequenciais com base nas embeddings e em compostos candidatos.\n",
    "\n",
    "Então tenho que começar a analise antes pra conseguir os compostos candidatos.\n",
    "\n",
    "A análise consistiu em tirar tudo que dependia dos tratamentos conhecidos. Agora, é usado o NER para calcular a relação de cada composto mencionado no corpus com a doença alvo ao decorrer dos anos.\n",
    "\n",
    "Agora, para a XAI, vou pegar janelas de contexto que contém cada composto selecionado e a doença alvo, depois vou mostrar essas frases para um transformer e pedir para ele explicar a relação entre o composto e a doença."
   ],
   "id": "f2bd2a5a0113c7d1"
  }
 ],
 "metadata": {
  "kernelspec": {
   "display_name": "Python 3",
   "language": "python",
   "name": "python3"
  },
  "language_info": {
   "codemirror_mode": {
    "name": "ipython",
    "version": 2
   },
   "file_extension": ".py",
   "mimetype": "text/x-python",
   "name": "python",
   "nbconvert_exporter": "python",
   "pygments_lexer": "ipython2",
   "version": "2.7.6"
  }
 },
 "nbformat": 4,
 "nbformat_minor": 5
}
